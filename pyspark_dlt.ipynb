{
 "cells": [
  {
   "cell_type": "markdown",
   "id": "26d5a271",
   "metadata": {},
   "source": [
    "### Import Libraries"
   ]
  },
  {
   "cell_type": "code",
   "execution_count": 1,
   "id": "28fa0de8",
   "metadata": {},
   "outputs": [],
   "source": [
    "import pandas as pd"
   ]
  },
  {
   "cell_type": "code",
   "execution_count": null,
   "id": "a532ca7f",
   "metadata": {},
   "outputs": [],
   "source": [
    "import dlt\n",
    "from pyspark.sql.functions import *\n",
    "from pyspark.sql.types import *"
   ]
  },
  {
   "cell_type": "markdown",
   "id": "b58d966d",
   "metadata": {},
   "source": [
    "### Ingest raw data"
   ]
  },
  {
   "cell_type": "code",
   "execution_count": null,
   "id": "35b98235",
   "metadata": {},
   "outputs": [],
   "source": [
    "# Parquet file path\n",
    "users_parquet_path = \"/mnt/datalake/raw/users.parquet\"\n",
    "application_parquet_path = \"/mnt/datalake/raw/applications.parquet\"\n",
    "\n",
    "@dlt.create_table(\n",
    "    comment=\"The raw users datasets ingested from a mounted location on Azure datalake\"\n",
    ")\n",
    "def users_raw():\n",
    "    return (\n",
    "    spark.read.parquet(application_parquet_path)\n",
    "    )\n",
    "\n",
    "@dlt.create_table(\n",
    "    comment=\"The raw users datasets ingested from a mounted location on Azure datalake\"\n",
    ")\n",
    "def applications_raw():\n",
    "    return (\n",
    "    spark.read.parquet(users_parquet_path)\n",
    "    )"
   ]
  },
  {
   "cell_type": "markdown",
   "id": "b8d14f61",
   "metadata": {},
   "source": [
    "### Clean and prepare data"
   ]
  },
  {
   "cell_type": "code",
   "execution_count": null,
   "id": "dc3b0aa7",
   "metadata": {},
   "outputs": [],
   "source": [
    "@dlt.create_table(\n",
    "    comment=\"The raw users data cleaned and prepared for analysis\"\n",
    ")\n",
    "@dlt.expect_or_fail('valid_user','user_id IS NOT NULL')\n",
    "@dlt.expect_or_fail('valid_avg_airtime', 'avg_airtime > 0')\n",
    "@dlt.expect_or_fail('valid_monthly_income', 'monthly_income > 0')\n",
    "\n",
    "def users_prepared():\n",
    "    return (\n",
    "        dlt.read(\"users_raw\")\n",
    "            .withColumn(\"education_status\",  expr(\"CAST(n AS STRING)\"))\n",
    "            .withColumn(\"employment_status\",  expr(\"CAST(n AS STRING)\"))\n",
    "            .withColumn(\"number_children\",  expr(\"CAST(n AS STRING)\"))\n",
    "            .withColumn(\"professional_category\",  expr(\"CAST(n AS STRING)\"))\n",
    "            .withColumn(\"date_of_birth\", expr(\"TO_DATE(date_of_birth, 'dd/MM/yyyy')\"))\n",
    "            .withColumn(\"age\", datediff(current_date(), \"date_of_birth\"))\n",
    "            .withColumnRenamed(\"number_children\", \"children\")\n",
    "            .withColumnRenamed(\"state\", \"state_of_residence\")\n",
    "            .select(\"user_id\",\"gender\",\"avg_airtime\",\"age\",\"education_status\",\n",
    "                   \"employment_status\",\"bank\",\"monthly_income\",\"children\", \"owns_car\",\n",
    "                   \"state_of_residence\", \"payment_system\", \"professional_category\",\n",
    "                   \"email_is_validated\")\n",
    "    )\n",
    "\n",
    "\n",
    "@dlt.create_table(\n",
    "    comment = \"The raw applications data cleaned and prepared for analysis\"\n",
    ")\n",
    "@dlt.expect_or_fail('valid_user','user_id IS NOT NULL')\n",
    "@dlt.expect_or_fail('principal', 'principal > 0')\n",
    "@dlt.expect_or_fail('product_id','product_id IS NOT NULL')\n",
    "@dlt.expect_or_fail('application_datetime','application_datetime IS NOT NULL')\n",
    "\n",
    "def applications_prepared():\n",
    "    return (\n",
    "        dlt.read(\"applications_raw\")\n",
    "            .filter(expr(\"loan_status != 'REJECTED'\"))\n",
    "            .withColumn(\"approval_datetime\", expr(\"TO_DATE(approval_datetime, 'yyyy-MM-dd')\"))\n",
    "            .withColumn(\"last_payment_date\", expr(\"TO_DATE(last_payment_date, 'yyyy-MM-dd')\"))\n",
    "            .withColumn(\"loan_duration\", datediff(\"last_payment_date\", \"approval_datetime\"))\n",
    "            .select('user_id','loan_status','principal','balance','defauted','repaid','loan_reason',\n",
    "                    'is_fraudulent','interest','late_fee','product_id', 'last_payment_date')\n",
    "    )"
   ]
  },
  {
   "cell_type": "markdown",
   "id": "3886f7e4",
   "metadata": {},
   "source": [
    "### User applications"
   ]
  },
  {
   "cell_type": "code",
   "execution_count": null,
   "id": "90bc9254",
   "metadata": {},
   "outputs": [],
   "source": [
    "@dlt.table(\n",
    "    comment = \"join both tables; users_prepared and applications_prepared\"\n",
    ")\n",
    "\n",
    "def user_loan_applications():\n",
    "    return (\n",
    "        dlt.read(\"applications_prepared\").alias(\"a\")\n",
    "        .join(dlt.read(\"users_prepared\").alias(\"u\"), \"user_id\", \"left\")\n",
    "        .select(\n",
    "            'u.user_id', \"u.gender\", \"u.avg_airtime\", \"u.age\", \"u.education_status\",\n",
    "            \"u.employment_status\", \"u.bank\", \"u.monthly_income\", \"u.children\", \n",
    "            \"u.owns_car\", \"u.state_of_residence\", \"u.payment_system\", \n",
    "            \"u.professional_category\", \"u.email_is_validated\",\n",
    "            'a.loan_status', 'a.principal', 'a.balance', 'a.defaulted',\n",
    "            'a.repaid', 'a.loan_reason', 'a.is_fraudulent', 'a.interest', \n",
    "            'a.late_fee', 'a.product_id', 'a.last_payment_date'\n",
    "        )\n",
    "    )"
   ]
  }
 ],
 "metadata": {
  "kernelspec": {
   "display_name": "Python 3 (ipykernel)",
   "language": "python",
   "name": "python3"
  },
  "language_info": {
   "codemirror_mode": {
    "name": "ipython",
    "version": 3
   },
   "file_extension": ".py",
   "mimetype": "text/x-python",
   "name": "python",
   "nbconvert_exporter": "python",
   "pygments_lexer": "ipython3",
   "version": "3.10.9"
  }
 },
 "nbformat": 4,
 "nbformat_minor": 5
}
